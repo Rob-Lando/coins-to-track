{
 "cells": [
  {
   "cell_type": "code",
   "execution_count": null,
   "metadata": {},
   "outputs": [],
   "source": [
    "import requests\n",
    "import polars as pl\n",
    "import json\n",
    "import os\n",
    "from datetime import datetime,timezone\n",
    "\n",
    "\n",
    "pl.Config.set_tbl_rows(10)\n",
    "pl.Config.set_tbl_cols(100)"
   ]
  },
  {
   "cell_type": "code",
   "execution_count": null,
   "metadata": {},
   "outputs": [],
   "source": [
    "ctt = pl.read_csv(\"coins_to_track.csv\")\n",
    "','.join(ctt['Symbol'])"
   ]
  },
  {
   "cell_type": "code",
   "execution_count": 3,
   "metadata": {},
   "outputs": [],
   "source": [
    "cmc_key = \"57eccd1c-b1de-4cff-8b6a-b4206ffded67\"\n",
    "\n",
    "headers = {\n",
    "    \"X-CMC_PRO_API_KEY\": cmc_key,\n",
    "    \"Content-Type\": \"application/json\"\n",
    "}\n",
    "\n",
    "parameters = {\n",
    "    # \"symbol\": ','.join(ctt['Symbol']),\n",
    "    \"symbol\": 'BTC',\n",
    "    \"skip_invalid\": \"false\"\n",
    "}\n",
    "\n",
    "# session = requests.Session()\n",
    "# session.headers.update(headers)\n",
    "\n",
    "x = json.loads(session.get(f\"https://pro-api.coinmarketcap.com/v1/cryptocurrency/quotes/latest\", params = parameters).text)"
   ]
  },
  {
   "cell_type": "code",
   "execution_count": 300,
   "metadata": {},
   "outputs": [],
   "source": [
    "def cmc_extract(server_url: str, headers: dict, parameters: dict):\n",
    "\n",
    "    \"\"\"\n",
    "    returns: api response generator \n",
    "    \"\"\"\n",
    "\n",
    "    # coins_to_track = pl.read_csv(\"coins_to_track.csv\")\n",
    "    # symbols = ','.join(ctt['Symbol'])\n",
    "\n",
    "    # parameters.update(symbol=symbols)\n",
    "    session = requests.Session()\n",
    "    session.headers.update(headers)\n",
    "\n",
    "    responses = json.loads(session.get(server_url, params = parameters).text)\n",
    "\n",
    "    return responses\n",
    "\n",
    "\n"
   ]
  },
  {
   "cell_type": "code",
   "execution_count": null,
   "metadata": {},
   "outputs": [],
   "source": [
    "coins_to_track = pl.read_csv(\"coins_to_track.csv\")\n",
    "symbols = ','.join(coins_to_track['Symbol'][:])\n",
    "parameters = {}\n",
    "parameters.update(symbol=symbols)\n",
    "\n",
    "print(parameters)"
   ]
  },
  {
   "cell_type": "markdown",
   "metadata": {},
   "source": [
    "# QUOTES LATEST"
   ]
  },
  {
   "cell_type": "code",
   "execution_count": null,
   "metadata": {},
   "outputs": [],
   "source": [
    "# coins_to_track = pl.read_csv(\"coins_to_track.csv\")\n",
    "# symbols = ','.join(ctt['Symbol'][:])\n",
    "# parameters = {}\n",
    "# parameters.update(symbol=symbols)\n",
    "\n",
    "# print(parameters)\n",
    "\n",
    "responses = cmc_extract(server_url = \"https://pro-api.coinmarketcap.com/v1/cryptocurrency/quotes/latest\", headers = headers, parameters = parameters)\n",
    "\n",
    "returned_data = responses[\"data\"]\n",
    "returned_symbols = list(returned_data.keys())\n",
    "\n",
    "quote_dfs = [pl.DataFrame(returned_data[symbol][\"quote\"][\"USD\"]).with_columns(pl.lit(symbol).alias(\"symbol\"), pl.lit(int(returned_data[symbol][\"cmc_rank\"])<=10).alias(\"IsTopCurrency\")) for symbol in returned_symbols]\n",
    "df = pl.concat(quote_dfs, how = 'vertical_relaxed')\n",
    "\n",
    "ts = datetime.now(timezone.utc)\n",
    "df = df.with_columns(pl.lit(ts.strftime(\"%Y-%m-%dT%H:%M:%SZ\")).alias(\"LoadedWhen\"))\n",
    "df.write_csv(file = fr\"src/extracts/{ts.strftime('%Y%m%dT%H%M%S')}_quotes.csv\")\n"
   ]
  },
  {
   "cell_type": "markdown",
   "metadata": {},
   "source": [
    "# METADATA"
   ]
  },
  {
   "cell_type": "code",
   "execution_count": 475,
   "metadata": {},
   "outputs": [],
   "source": [
    "responses2 = cmc_extract(server_url = \"https://pro-api.coinmarketcap.com/v2/cryptocurrency/info\", headers = headers, parameters = {\"symbol\":symbols, \"skip_invalid\": \"true\"})\n",
    "\n",
    "returned_data2 = responses2[\"data\"]\n",
    "returned_symbols2 = list(returned_data2.keys())"
   ]
  },
  {
   "cell_type": "code",
   "execution_count": null,
   "metadata": {},
   "outputs": [],
   "source": [
    "meta_dfs = [pl.from_records(returned_data2[symbol]) for symbol in returned_data2.keys()]\n",
    "meta_df = pl.concat([df for df in meta_dfs if not df.is_empty()], how = \"vertical_relaxed\")\n",
    "\n",
    "platform = meta_df.select(\n",
    "    # pl.col(\"urls\").struct.unnest()\n",
    "    pl.col(\"platform\").struct.unnest()\n",
    "    # pl.col(\"contract_address\").list.json_encode()\n",
    "    )\n",
    "platform = platform.rename({i:f\"platform_{i}\" for i in platform.columns})\n",
    "\n",
    "urls = meta_df.select(\n",
    "    # pl.col(\"urls\").struct.unnest()\n",
    "    pl.col(\"urls\").struct.unnest()\n",
    "    # pl.col(\"contract_address\").list.json_encode()\n",
    "    )"
   ]
  },
  {
   "cell_type": "code",
   "execution_count": null,
   "metadata": {},
   "outputs": [],
   "source": [
    "contract_address = meta_df.select(\n",
    "    pl.col(\"contract_address\").list.first().struct.unnest()\n",
    "    )\n",
    "\n",
    "# contract_address = contract_address.select(\n",
    "#     pl.col(\"contract_address\"),\n",
    "#     pl.col(\"platform\").struct.unnest()\n",
    "# )\n",
    "\n",
    "# contract_address = contract_address.select(\n",
    "#     # pl.col(\"contract_address\"),\n",
    "#     # pl.col(\"name\")\n",
    "#     pl.col(\"coin\").struct.unnest()\n",
    "# )\n",
    "\n",
    "# contract_address = contract_address.rename({i:f\"contract_address_{i}\" for i in contract_address.columns})\n",
    "contract_address = contract_address.select(\n",
    "    pl.col(\"contract_address\"),\n",
    "    pl.col(\"platform\").struct.json_encode()\n",
    "    )\n",
    "\n",
    "contract_address"
   ]
  },
  {
   "cell_type": "code",
   "execution_count": null,
   "metadata": {},
   "outputs": [],
   "source": [
    "contract_address = meta_df.with_columns(\n",
    "    pl.col(\"contract_address\").list.first().struct.unnest()\n",
    "    )\n",
    "contract_address"
   ]
  },
  {
   "cell_type": "code",
   "execution_count": null,
   "metadata": {},
   "outputs": [],
   "source": [
    "dict(zip(meta_df.columns,meta_df.dtypes))"
   ]
  },
  {
   "cell_type": "code",
   "execution_count": null,
   "metadata": {},
   "outputs": [],
   "source": [
    "meta_df.select(\n",
    "    pl.col(\"contract_address\").list.first().struct.unnest()\n",
    "    )"
   ]
  },
  {
   "cell_type": "markdown",
   "metadata": {},
   "source": [
    "# Mapping Data"
   ]
  },
  {
   "cell_type": "code",
   "execution_count": 367,
   "metadata": {},
   "outputs": [],
   "source": [
    "responses = cmc_extract(server_url = \"https://pro-api.coinmarketcap.com/v1/cryptocurrency/map\", headers = headers, parameters = {})\n",
    "\n",
    "returned_data = responses[\"data\"]\n",
    "# returned_symbols = list(returned_data.keys())\n",
    "\n",
    "map_dfs = [pl.from_records(returned_data).sort(by = 'symbol').filter(pl.col('symbol').eq(symbol)) for symbol in coins_to_track['Symbol']]\n",
    "\n",
    "map_df = pl.concat(map_dfs, how = 'vertical_relaxed')\n",
    "map_df = map_df.with_columns((pl.col(\"rank\").cast(pl.Int64) <= 10).alias(\"IsTopCurrency\"))\n",
    "\n",
    "ts = datetime.now(timezone.utc)\n",
    "map_df = map_df.with_columns(pl.lit(ts.strftime(\"%Y-%m-%dT%H:%M:%SZ\")).alias(\"LoadedWhen\"))\n",
    "map_df.select(\n",
    "    \"name\",\n",
    "    \"symbol\",\n",
    "    \"slug\",\n",
    "    \"is_active\",\n",
    "    \"status\",\n",
    "    \"first_historical_data\",\n",
    "    \"last_historical_data\",\n",
    "    \"IsTopCurrency\"\n",
    "    ).write_csv(file = fr\"src/extracts/map/{ts.strftime('%Y%m%dT%H%M%S')}_map.csv\")"
   ]
  }
 ],
 "metadata": {
  "kernelspec": {
   "display_name": "coins-to-track-O4fba6JM",
   "language": "python",
   "name": "python3"
  },
  "language_info": {
   "codemirror_mode": {
    "name": "ipython",
    "version": 3
   },
   "file_extension": ".py",
   "mimetype": "text/x-python",
   "name": "python",
   "nbconvert_exporter": "python",
   "pygments_lexer": "ipython3",
   "version": "3.11.4"
  }
 },
 "nbformat": 4,
 "nbformat_minor": 2
}
